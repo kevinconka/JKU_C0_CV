{
 "cells": [
  {
   "cell_type": "code",
   "execution_count": null,
   "metadata": {},
   "outputs": [],
   "source": [
    "import numpy as np\n",
    "from scipy.fftpack import fft, ifft\n",
    "\n",
    "# Load the thermal video frames into a numpy array\n",
    "frames = np.load(\"thermal_video.npy\")\n",
    "\n",
    "# Extract the temperature data from the frames\n",
    "# The array should have dimensions (num_frames, height, width, num_channels)\n",
    "temperatures = frames[:,:,:,0]\n",
    "\n",
    "# Apply the FFT to each frame of the video\n",
    "frequencies = np.zeros_like(temperatures)\n",
    "for i in range(temperatures.shape[0]):\n",
    "    frequencies[i,:,:] = fft(temperatures[i,:,:])\n",
    "\n",
    "# Save the frequency data\n",
    "np.save(\"thermal_frequencies.npy\", frequencies)\n",
    "\n",
    "# # Load the frequency data for the thermal video\n",
    "# frequencies = np.load(\"thermal_frequencies.npy\")\n",
    "\n",
    "# # Compute the magnitude of the frequency components\n",
    "# magnitudes = np.abs(frequencies)\n",
    "\n",
    "# # Look for large changes in the magnitude of the frequency components\n",
    "# threshold = 5\n",
    "# for i in range(1, magnitudes.shape[0]):\n",
    "#     changes = magnitudes[i,:,:] - magnitudes[i-1,:,:]\n",
    "#     large_changes = np.where(np.abs(changes) > threshold)\n",
    "#     if len(large_changes[0]) > 0:\n",
    "#         print(\"Detected non-periodic change in frame\", i)\n",
    "\n",
    "# Load the frequency data for the thermal video\n",
    "frequencies = np.load(\"thermal_frequencies.npy\")\n",
    "\n",
    "# Compute the magnitude of the frequency components\n",
    "magnitudes = np.abs(frequencies)\n",
    "\n",
    "# Set the size of the sliding window\n",
    "window_size = 10\n",
    "\n",
    "# Compute the average magnitude of the frequency components for each frame\n",
    "averages = np.zeros_like(magnitudes)\n",
    "for i in range(magnitudes.shape[0]):\n",
    "    start = max(0, i - window_size // 2)\n",
    "    end = min(magnitudes.shape[0], i + window_size // 2 + 1)\n",
    "    averages[i,:,:] = np.mean(magnitudes[start:end,:,:], axis=0)\n",
    "\n",
    "# Look for large changes in the average magnitude of the frequency components\n",
    "threshold = 5\n",
    "for i in range(1, magnitudes.shape[0]):\n",
    "    changes = averages[i,:,:] - averages[i-1,:,:]\n",
    "    large_changes = np.where(np.abs(changes) > threshold)\n",
    "    if len(large_changes[0]) > 0:\n",
    "        print(\"Detected non-periodic change in frame\", i)\n",
    "\n",
    "# Load the frequency data for the thermal video\n",
    "frequencies = np.load(\"thermal_frequencies.npy\")\n",
    "\n",
    "# Apply the inverse FFT to the frequency data to convert it back into the spatial domain\n",
    "spatial = np.zeros_like(frequencies)\n",
    "for i in range(frequencies.shape[0]):\n",
    "    spatial[i,:,:] = ifft(frequencies[i,:,:])\n",
    "\n",
    "# Save the spatial data\n",
    "np.save(\"thermal_spatial.npy\", spatial)"
   ]
  }
 ],
 "metadata": {
  "kernelspec": {
   "display_name": "Python 3.10.6 ('jku-ai')",
   "language": "python",
   "name": "python3"
  },
  "language_info": {
   "name": "python",
   "version": "3.10.6"
  },
  "orig_nbformat": 4,
  "vscode": {
   "interpreter": {
    "hash": "eca1d6de0076b548f3e38e61f6a6e27d6a514417f5a7dec3b4e96caf90ed6475"
   }
  }
 },
 "nbformat": 4,
 "nbformat_minor": 2
}
