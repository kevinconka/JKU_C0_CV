{
 "cells": [
  {
   "attachments": {},
   "cell_type": "markdown",
   "metadata": {},
   "source": [
    "# Fiftyone\n",
    "\n",
    "The open-source tool for building high-quality datasets and computer vision models.\n",
    "\n",
    "<img src=\"https://voxel51.com/docs/fiftyone/_static/images/homepage_curate.gif\" alt=\"drawing\" width=\"500\"/>\n",
    "\n",
    "Install with pip in a python virtual environment (conda recommended).\n",
    "```console\n",
    "pip install fiftyone\n",
    "```\n",
    "Detailed instructions here: https://voxel51.com/docs/fiftyone/getting_started/install.html"
   ]
  },
  {
   "cell_type": "code",
   "execution_count": 1,
   "metadata": {},
   "outputs": [
    {
     "data": {
      "text/plain": [
       "['tmp-dataset']"
      ]
     },
     "execution_count": 1,
     "metadata": {},
     "output_type": "execute_result"
    }
   ],
   "source": [
    "import fiftyone as fo\n",
    "fo.list_datasets()"
   ]
  },
  {
   "cell_type": "code",
   "execution_count": 2,
   "metadata": {},
   "outputs": [
    {
     "name": "stdout",
     "output_type": "stream",
     "text": [
      " 100% |███████████████████| 28/28 [38.2s elapsed, 0s remaining, 0.6 samples/s]    \n",
      "Computing metadata...\n",
      " 100% |███████████████████| 28/28 [1.9s elapsed, 0s remaining, 15.1 samples/s]      \n",
      "Name:        tmp-dataset\n",
      "Media type:  video\n",
      "Num samples: 28\n",
      "Persistent:  False\n",
      "Tags:        []\n",
      "Sample fields:\n",
      "    id:       fiftyone.core.fields.ObjectIdField\n",
      "    filepath: fiftyone.core.fields.StringField\n",
      "    tags:     fiftyone.core.fields.ListField(fiftyone.core.fields.StringField)\n",
      "    metadata: fiftyone.core.fields.EmbeddedDocumentField(fiftyone.core.metadata.VideoMetadata)\n",
      "Frame fields:\n",
      "    id:           fiftyone.core.fields.ObjectIdField\n",
      "    frame_number: fiftyone.core.fields.FrameNumberField\n",
      "    detections:   fiftyone.core.fields.EmbeddedDocumentField(fiftyone.core.labels.Detections)\n",
      "[<Sample: {\n",
      "    'id': '63cc44a9b8d146fb90246718',\n",
      "    'media_type': 'video',\n",
      "    'filepath': '/Users/kevinserrano/GitHub/JKU_C0_CV/datasets/data/video_000.mp4',\n",
      "    'tags': [],\n",
      "    'metadata': <VideoMetadata: {\n",
      "        'size_bytes': 38609630,\n",
      "        'mime_type': 'video/mp4',\n",
      "        'frame_width': 640,\n",
      "        'frame_height': 512,\n",
      "        'frame_rate': 29.97002997002997,\n",
      "        'total_frame_count': 1041,\n",
      "        'duration': 34.7347,\n",
      "        'encoding_str': 'avc1',\n",
      "    }>,\n",
      "    'frames': <Frames: 955>,\n",
      "}>, <Sample: {\n",
      "    'id': '63cc44aab8d146fb90246ce1',\n",
      "    'media_type': 'video',\n",
      "    'filepath': '/Users/kevinserrano/GitHub/JKU_C0_CV/datasets/data/video_001.mp4',\n",
      "    'tags': [],\n",
      "    'metadata': <VideoMetadata: {\n",
      "        'size_bytes': 59919945,\n",
      "        'mime_type': 'video/mp4',\n",
      "        'frame_width': 640,\n",
      "        'frame_height': 512,\n",
      "        'frame_rate': 29.97002997002997,\n",
      "        'total_frame_count': 1621,\n",
      "        'duration': 54.087367,\n",
      "        'encoding_str': 'avc1',\n",
      "    }>,\n",
      "    'frames': <Frames: 1480>,\n",
      "}>, <Sample: {\n",
      "    'id': '63cc44acb8d146fb902470a7',\n",
      "    'media_type': 'video',\n",
      "    'filepath': '/Users/kevinserrano/GitHub/JKU_C0_CV/datasets/data/video_002.mp4',\n",
      "    'tags': [],\n",
      "    'metadata': <VideoMetadata: {\n",
      "        'size_bytes': 37452581,\n",
      "        'mime_type': 'video/mp4',\n",
      "        'frame_width': 640,\n",
      "        'frame_height': 512,\n",
      "        'frame_rate': 29.97002997002997,\n",
      "        'total_frame_count': 965,\n",
      "        'duration': 32.198833,\n",
      "        'encoding_str': 'avc1',\n",
      "    }>,\n",
      "    'frames': <Frames: 965>,\n",
      "}>]\n"
     ]
    }
   ],
   "source": [
    "name = \"tmp-dataset\"\n",
    "dataset_dir = \"./datasets/\"\n",
    "\n",
    "if name in fo.list_datasets():\n",
    "    fo.delete_dataset(name)\n",
    "\n",
    "# Create the dataset\n",
    "dataset = fo.Dataset.from_dir(\n",
    "    dataset_dir=dataset_dir,\n",
    "    dataset_type=fo.types.CVATVideoDataset,\n",
    "    name=name,\n",
    ")\n",
    "\n",
    "# generate metadata for the dataset\n",
    "dataset.compute_metadata()\n",
    "\n",
    "# View summary info about the dataset\n",
    "print(dataset)\n",
    "\n",
    "# Print the first few samples in the dataset\n",
    "print(dataset.head())"
   ]
  },
  {
   "cell_type": "code",
   "execution_count": 3,
   "metadata": {},
   "outputs": [
    {
     "name": "stdout",
     "output_type": "stream",
     "text": [
      "Session launched. Run `session.show()` to open the App in a cell output.\n"
     ]
    }
   ],
   "source": [
    "session = fo.launch_app(dataset, auto=False)"
   ]
  },
  {
   "cell_type": "code",
   "execution_count": 4,
   "metadata": {},
   "outputs": [],
   "source": [
    "for sample in dataset:\n",
    "    # add video name to the sample\n",
    "    sample['filename'] = sample.filepath.split(\"/\")[-1]\n",
    "    sample.save()"
   ]
  },
  {
   "cell_type": "code",
   "execution_count": 5,
   "metadata": {},
   "outputs": [
    {
     "name": "stdout",
     "output_type": "stream",
     "text": [
      "<Frame: {\n",
      "    'id': '63cc44ce9664866620ab8ce0',\n",
      "    'frame_number': 1,\n",
      "    'detections': <Detections: {\n",
      "        'detections': [\n",
      "            <Detection: {\n",
      "                'id': '63cc44cdb8d146fb9024e405',\n",
      "                'attributes': {},\n",
      "                'tags': [],\n",
      "                'label': 'person',\n",
      "                'bounding_box': [0.25, 0.55859375, 0.04375, 0.05078125],\n",
      "                'mask': None,\n",
      "                'confidence': None,\n",
      "                'index': 0,\n",
      "                'keyframe': True,\n",
      "            }>,\n",
      "        ],\n",
      "    }>,\n",
      "}>\n"
     ]
    }
   ],
   "source": [
    "for frame_number, frame in sample.frames.items():\n",
    "    print(frame)\n",
    "    break"
   ]
  },
  {
   "cell_type": "code",
   "execution_count": 13,
   "metadata": {},
   "outputs": [],
   "source": [
    "import fiftyone.utils.random as four\n",
    "\n",
    "four.random_split(dataset, {\"train\": 0.7, \"val\": 0.3}, seed=51)\n",
    "session.view = dataset.view()"
   ]
  },
  {
   "cell_type": "code",
   "execution_count": 5,
   "metadata": {},
   "outputs": [],
   "source": [
    "# few examples on views\n",
    "view = dataset.match_tags(\"val\")\n",
    "session.view = view\n",
    "# session.show()"
   ]
  },
  {
   "cell_type": "code",
   "execution_count": 6,
   "metadata": {},
   "outputs": [
    {
     "name": "stdout",
     "output_type": "stream",
     "text": [
      "Computing metadata...\n",
      " 100% |███████████████████| 16/16 [246.7ms elapsed, 0s remaining, 64.8 samples/s] \n",
      "Setting 1489 frame filepaths on the input collection that exist on disk but are not recorded on the dataset\n"
     ]
    }
   ],
   "source": [
    "# convert video to frames\n",
    "import fiftyone.core.video as fcv\n",
    "frames_dataset = fcv.make_frames_dataset(\n",
    "    dataset,\n",
    "    sample_frames=True,\n",
    "    fps=2,\n",
    ")"
   ]
  },
  {
   "cell_type": "code",
   "execution_count": 7,
   "metadata": {},
   "outputs": [],
   "source": [
    "session.view = frames_dataset.view()"
   ]
  },
  {
   "cell_type": "code",
   "execution_count": 9,
   "metadata": {},
   "outputs": [
    {
     "name": "stdout",
     "output_type": "stream",
     "text": [
      " 100% |███████████████| 1072/1072 [2.2s elapsed, 0s remaining, 496.0 samples/s]      \n",
      "Directory './yolov5/CV-C0-v0' already exists; export will be merged with existing files\n",
      " 100% |█████████████████| 417/417 [796.7ms elapsed, 0s remaining, 523.4 samples/s]      \n"
     ]
    }
   ],
   "source": [
    "# export dataset for yolo training\n",
    "classes = frames_dataset.distinct(\"detections.detections.label\")\n",
    "\n",
    "# export dir\n",
    "export_dir = \"./yolov5/CV-C0-v0\"\n",
    "\n",
    "# YOLOv5 format supports splits\n",
    "for split in [\"train\", \"val\"]:\n",
    "    view = frames_dataset.match_tags(split)\n",
    "    view.export(\n",
    "        export_dir=export_dir,\n",
    "        dataset_type=fo.types.YOLOv5Dataset,\n",
    "        split=split,\n",
    "        label_field=\"detections\",\n",
    "        classes=classes,\n",
    "    )"
   ]
  },
  {
   "cell_type": "code",
   "execution_count": null,
   "metadata": {},
   "outputs": [],
   "source": []
  }
 ],
 "metadata": {
  "kernelspec": {
   "display_name": "jku-ai",
   "language": "python",
   "name": "python3"
  },
  "language_info": {
   "codemirror_mode": {
    "name": "ipython",
    "version": 3
   },
   "file_extension": ".py",
   "mimetype": "text/x-python",
   "name": "python",
   "nbconvert_exporter": "python",
   "pygments_lexer": "ipython3",
   "version": "3.10.8 | packaged by conda-forge | (main, Nov 22 2022, 08:27:35) [Clang 14.0.6 ]"
  },
  "orig_nbformat": 4,
  "vscode": {
   "interpreter": {
    "hash": "eca1d6de0076b548f3e38e61f6a6e27d6a514417f5a7dec3b4e96caf90ed6475"
   }
  }
 },
 "nbformat": 4,
 "nbformat_minor": 2
}
