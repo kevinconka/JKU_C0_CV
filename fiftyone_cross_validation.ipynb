{
 "cells": [
  {
   "attachments": {},
   "cell_type": "markdown",
   "metadata": {},
   "source": [
    "# Fiftyone\n",
    "\n",
    "The open-source tool for building high-quality datasets and computer vision models.\n",
    "\n",
    "<img src=\"https://voxel51.com/docs/fiftyone/_static/images/homepage_curate.gif\" alt=\"drawing\" width=\"500\"/>\n",
    "\n",
    "Install with pip in a python virtual environment (conda recommended).\n",
    "```console\n",
    "pip install fiftyone\n",
    "```\n",
    "Detailed instructions here: https://voxel51.com/docs/fiftyone/getting_started/install.html"
   ]
  },
  {
   "cell_type": "code",
   "execution_count": 1,
   "metadata": {},
   "outputs": [
    {
     "data": {
      "text/plain": [
       "[]"
      ]
     },
     "execution_count": 1,
     "metadata": {},
     "output_type": "execute_result"
    }
   ],
   "source": [
    "import fiftyone as fo\n",
    "fo.list_datasets()"
   ]
  },
  {
   "cell_type": "code",
   "execution_count": 2,
   "metadata": {},
   "outputs": [
    {
     "name": "stdout",
     "output_type": "stream",
     "text": [
      " 100% |███████████████████| 28/28 [34.6s elapsed, 0s remaining, 0.6 samples/s]    \n",
      "Computing metadata...\n",
      " 100% |███████████████████| 28/28 [401.7ms elapsed, 0s remaining, 69.7 samples/s]      \n",
      "Name:        tmp-dataset\n",
      "Media type:  video\n",
      "Num samples: 28\n",
      "Persistent:  False\n",
      "Tags:        []\n",
      "Sample fields:\n",
      "    id:       fiftyone.core.fields.ObjectIdField\n",
      "    filepath: fiftyone.core.fields.StringField\n",
      "    tags:     fiftyone.core.fields.ListField(fiftyone.core.fields.StringField)\n",
      "    metadata: fiftyone.core.fields.EmbeddedDocumentField(fiftyone.core.metadata.VideoMetadata)\n",
      "Frame fields:\n",
      "    id:           fiftyone.core.fields.ObjectIdField\n",
      "    frame_number: fiftyone.core.fields.FrameNumberField\n",
      "    detections:   fiftyone.core.fields.EmbeddedDocumentField(fiftyone.core.labels.Detections)\n",
      "[<Sample: {\n",
      "    'id': '63cd3ef6e09f3528fe9a4f04',\n",
      "    'media_type': 'video',\n",
      "    'filepath': '/Users/kevinserrano/GitHub/JKU_C0_CV/datasets/data/video_000.mp4',\n",
      "    'tags': [],\n",
      "    'metadata': <VideoMetadata: {\n",
      "        'size_bytes': 38609630,\n",
      "        'mime_type': 'video/mp4',\n",
      "        'frame_width': 640,\n",
      "        'frame_height': 512,\n",
      "        'frame_rate': 29.97002997002997,\n",
      "        'total_frame_count': 1041,\n",
      "        'duration': 34.7347,\n",
      "        'encoding_str': 'avc1',\n",
      "    }>,\n",
      "    'frames': <Frames: 955>,\n",
      "}>, <Sample: {\n",
      "    'id': '63cd3ef7e09f3528fe9a54cd',\n",
      "    'media_type': 'video',\n",
      "    'filepath': '/Users/kevinserrano/GitHub/JKU_C0_CV/datasets/data/video_001.mp4',\n",
      "    'tags': [],\n",
      "    'metadata': <VideoMetadata: {\n",
      "        'size_bytes': 59919945,\n",
      "        'mime_type': 'video/mp4',\n",
      "        'frame_width': 640,\n",
      "        'frame_height': 512,\n",
      "        'frame_rate': 29.97002997002997,\n",
      "        'total_frame_count': 1621,\n",
      "        'duration': 54.087367,\n",
      "        'encoding_str': 'avc1',\n",
      "    }>,\n",
      "    'frames': <Frames: 1480>,\n",
      "}>, <Sample: {\n",
      "    'id': '63cd3ef9e09f3528fe9a5893',\n",
      "    'media_type': 'video',\n",
      "    'filepath': '/Users/kevinserrano/GitHub/JKU_C0_CV/datasets/data/video_002.mp4',\n",
      "    'tags': [],\n",
      "    'metadata': <VideoMetadata: {\n",
      "        'size_bytes': 37452581,\n",
      "        'mime_type': 'video/mp4',\n",
      "        'frame_width': 640,\n",
      "        'frame_height': 512,\n",
      "        'frame_rate': 29.97002997002997,\n",
      "        'total_frame_count': 965,\n",
      "        'duration': 32.198833,\n",
      "        'encoding_str': 'avc1',\n",
      "    }>,\n",
      "    'frames': <Frames: 965>,\n",
      "}>]\n"
     ]
    }
   ],
   "source": [
    "name = \"tmp-dataset\"\n",
    "dataset_dir = \"./datasets/\"\n",
    "\n",
    "if name in fo.list_datasets():\n",
    "    fo.delete_dataset(name)\n",
    "\n",
    "# Create the dataset\n",
    "dataset = fo.Dataset.from_dir(\n",
    "    dataset_dir=dataset_dir,\n",
    "    dataset_type=fo.types.CVATVideoDataset,\n",
    "    name=name,\n",
    ")\n",
    "\n",
    "# generate metadata for the dataset\n",
    "dataset.compute_metadata()\n",
    "\n",
    "# View summary info about the dataset\n",
    "print(dataset)\n",
    "\n",
    "# Print the first few samples in the dataset\n",
    "print(dataset.head())"
   ]
  },
  {
   "cell_type": "code",
   "execution_count": 3,
   "metadata": {},
   "outputs": [
    {
     "name": "stdout",
     "output_type": "stream",
     "text": [
      "Session launched. Run `session.show()` to open the App in a cell output.\n"
     ]
    }
   ],
   "source": [
    "session = fo.launch_app(dataset, auto=False)"
   ]
  },
  {
   "cell_type": "code",
   "execution_count": 4,
   "metadata": {},
   "outputs": [],
   "source": [
    "for sample in dataset:\n",
    "    # add video name to the sample\n",
    "    sample['filename'] = sample.filepath.split(\"/\")[-1]\n",
    "    sample.save()"
   ]
  },
  {
   "cell_type": "code",
   "execution_count": 5,
   "metadata": {},
   "outputs": [
    {
     "name": "stdout",
     "output_type": "stream",
     "text": [
      "<Frame: {\n",
      "    'id': '63cd3f173260512d0ff8fa95',\n",
      "    'frame_number': 1,\n",
      "    'detections': <Detections: {\n",
      "        'detections': [\n",
      "            <Detection: {\n",
      "                'id': '63cd3f16e09f3528fe9acbf1',\n",
      "                'attributes': {},\n",
      "                'tags': [],\n",
      "                'label': 'person',\n",
      "                'bounding_box': [0.25, 0.55859375, 0.04375, 0.05078125],\n",
      "                'mask': None,\n",
      "                'confidence': None,\n",
      "                'index': 0,\n",
      "                'keyframe': True,\n",
      "            }>,\n",
      "        ],\n",
      "    }>,\n",
      "}>\n"
     ]
    }
   ],
   "source": [
    "for frame_number, frame in sample.frames.items():\n",
    "    print(frame)\n",
    "    break"
   ]
  },
  {
   "cell_type": "code",
   "execution_count": 6,
   "metadata": {},
   "outputs": [
    {
     "name": "stdout",
     "output_type": "stream",
     "text": [
      "Fold 1 has 6 samples\n",
      "['video_004.mp4', 'video_010.mp4', 'video_013.mp4', 'video_016.mp4', 'video_018.mp4', 'video_024.mp4']\n",
      "Fold 2 has 6 samples\n",
      "['video_003.mp4', 'video_006.mp4', 'video_014.mp4', 'video_019.mp4', 'video_022.mp4', 'video_026.mp4']\n",
      "Fold 3 has 6 samples\n",
      "['video_001.mp4', 'video_007.mp4', 'video_020.mp4', 'video_021.mp4', 'video_023.mp4', 'video_027.mp4']\n",
      "Fold 4 has 5 samples\n",
      "['video_000.mp4', 'video_005.mp4', 'video_012.mp4', 'video_015.mp4', 'video_025.mp4']\n",
      "Fold 5 has 5 samples\n",
      "['video_002.mp4', 'video_008.mp4', 'video_009.mp4', 'video_011.mp4', 'video_017.mp4']\n"
     ]
    }
   ],
   "source": [
    "import random\n",
    "import fiftyone.utils.random as four\n",
    "\n",
    "# get sample IDs and shuffle them\n",
    "sample_ids = dataset.values(\"id\")\n",
    "random.seed(51)\n",
    "random.shuffle(sample_ids)\n",
    "\n",
    "# split the dataset into 5 folds\n",
    "folds = [sample_ids[i::5] for i in range(5)]\n",
    "\n",
    "# tag each sample with the fold number\n",
    "for i, fold in enumerate(folds):\n",
    "    dataset.select(fold).tag_samples(f\"fold_{i+1}\")\n",
    "    print(f\"Fold {i+1} has {len(fold)} samples\")\n",
    "    print(dataset.select(fold).values(\"filename\"))\n",
    "        "
   ]
  },
  {
   "cell_type": "code",
   "execution_count": 7,
   "metadata": {},
   "outputs": [
    {
     "name": "stdout",
     "output_type": "stream",
     "text": [
      "Setting 3502 frame filepaths on the input collection that exist on disk but are not recorded on the dataset\n"
     ]
    }
   ],
   "source": [
    "# convert video to frames\n",
    "import fiftyone.core.video as fcv\n",
    "frames_dataset = fcv.make_frames_dataset(\n",
    "    dataset,\n",
    "    sample_frames=True,\n",
    "    fps=3,\n",
    ")"
   ]
  },
  {
   "cell_type": "code",
   "execution_count": 8,
   "metadata": {},
   "outputs": [],
   "source": [
    "session.view = frames_dataset.view()"
   ]
  },
  {
   "cell_type": "code",
   "execution_count": 10,
   "metadata": {},
   "outputs": [
    {
     "name": "stdout",
     "output_type": "stream",
     "text": [
      "Directory './datasets/CV-C0-v1-k5-f1' already exists; export will be merged with existing files\n",
      " 100% |███████████████| 2663/2663 [9.2s elapsed, 0s remaining, 284.1 samples/s]       \n",
      "Directory './datasets/CV-C0-v1-k5-f1' already exists; export will be merged with existing files\n",
      " 100% |█████████████████| 839/839 [2.8s elapsed, 0s remaining, 272.3 samples/s]      \n",
      "Directory './datasets/CV-C0-v1-k5-f2' already exists; export will be merged with existing files\n",
      " 100% |███████████████| 2645/2645 [7.5s elapsed, 0s remaining, 422.6 samples/s]       \n",
      "Directory './datasets/CV-C0-v1-k5-f2' already exists; export will be merged with existing files\n",
      " 100% |█████████████████| 857/857 [2.4s elapsed, 0s remaining, 365.0 samples/s]      \n",
      "Directory './datasets/CV-C0-v1-k5-f3' already exists; export will be merged with existing files\n",
      " 100% |███████████████| 2593/2593 [5.0s elapsed, 0s remaining, 722.1 samples/s]      \n",
      "Directory './datasets/CV-C0-v1-k5-f3' already exists; export will be merged with existing files\n",
      " 100% |█████████████████| 909/909 [1.3s elapsed, 0s remaining, 776.3 samples/s]         \n",
      "Directory './datasets/CV-C0-v1-k5-f4' already exists; export will be merged with existing files\n",
      " 100% |███████████████| 3018/3018 [5.1s elapsed, 0s remaining, 659.5 samples/s]      \n",
      "Directory './datasets/CV-C0-v1-k5-f4' already exists; export will be merged with existing files\n",
      " 100% |█████████████████| 484/484 [812.3ms elapsed, 0s remaining, 595.8 samples/s]      \n",
      "Directory './datasets/CV-C0-v1-k5-f5' already exists; export will be merged with existing files\n",
      " 100% |███████████████| 3089/3089 [6.5s elapsed, 0s remaining, 605.9 samples/s]       \n",
      "Directory './datasets/CV-C0-v1-k5-f5' already exists; export will be merged with existing files\n",
      " 100% |█████████████████| 413/413 [641.3ms elapsed, 0s remaining, 644.0 samples/s]      \n"
     ]
    }
   ],
   "source": [
    "classes = frames_dataset.distinct(\"detections.detections.label\")\n",
    "\n",
    "# export datasets for cross validation\n",
    "for i in range(len(folds)):\n",
    "    export_dir = f\"./datasets/CV-C0-v1-k5-f{i+1}\"\n",
    "\n",
    "    train_split = frames_dataset.match_tags(f\"fold_{i+1}\", bool=False)\n",
    "    val_split = frames_dataset.match_tags(f\"fold_{i+1}\", bool=True)\n",
    "\n",
    "    for split in zip([\"train\", \"val\"], [train_split, val_split]):\n",
    "        split_name, view = split\n",
    "        view.export(\n",
    "            export_dir=export_dir,\n",
    "            dataset_type=fo.types.YOLOv5Dataset,\n",
    "            split=split_name,\n",
    "            label_field=\"detections\",\n",
    "            classes=classes,\n",
    "        )\n",
    "    "
   ]
  }
 ],
 "metadata": {
  "kernelspec": {
   "display_name": "jku-ai",
   "language": "python",
   "name": "python3"
  },
  "language_info": {
   "codemirror_mode": {
    "name": "ipython",
    "version": 3
   },
   "file_extension": ".py",
   "mimetype": "text/x-python",
   "name": "python",
   "nbconvert_exporter": "python",
   "pygments_lexer": "ipython3",
   "version": "3.10.8"
  },
  "orig_nbformat": 4,
  "vscode": {
   "interpreter": {
    "hash": "eca1d6de0076b548f3e38e61f6a6e27d6a514417f5a7dec3b4e96caf90ed6475"
   }
  }
 },
 "nbformat": 4,
 "nbformat_minor": 2
}
